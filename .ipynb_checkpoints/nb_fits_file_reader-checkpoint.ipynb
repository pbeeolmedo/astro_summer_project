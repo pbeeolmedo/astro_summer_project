{
 "cells": [
  {
   "cell_type": "code",
   "execution_count": 58,
   "metadata": {
    "collapsed": true
   },
   "outputs": [],
   "source": [
    "from astropy.table import Table\n",
    "import numpy as np\n",
    "import glob\n",
    "from matplotlib import pyplot as plt\n",
    "import pandas as pd\n",
    "from scipy import constants as const"
   ]
  },
  {
   "cell_type": "code",
   "execution_count": 67,
   "metadata": {},
   "outputs": [],
   "source": [
    "numbertorun = 15\n",
    "\n",
    "# t = Table.read(filename,hdu=1)\n",
    "# Initialise\n",
    "i = 0\n",
    "flux_values = []\n",
    "loglam_values = []\n",
    "upper_cutoff_loglam = 3.95\n",
    "lower_cutoff_loglam = 3.59\n",
    "df = pd.read_csv('Data_Files/segue_dataquery.csv')\n",
    "rad_vels = df['elodiervfinal']\n",
    "good_spec_info=[]\n",
    "subclasses=[]"
   ]
  },
  {
   "cell_type": "code",
   "execution_count": 68,
   "metadata": {},
   "outputs": [
    {
     "name": "stdout",
     "output_type": "stream",
     "text": [
      "0\n"
     ]
    },
    {
     "name": "stderr",
     "output_type": "stream",
     "text": [
      "C:\\Anaconda3\\lib\\site-packages\\matplotlib\\cbook\\deprecation.py:106: MatplotlibDeprecationWarning: Adding an axes using the same arguments as a previous axes currently reuses the earlier instance.  In a future version, a new instance will always be created and returned.  Meanwhile, this warning can be suppressed, and the future behavior ensured, by passing a unique label to each axes instance.\n",
      "  warnings.warn(message, mplDeprecation, stacklevel=1)\n"
     ]
    },
    {
     "name": "stdout",
     "output_type": "stream",
     "text": [
      "1\n",
      "2\n",
      "3\n",
      "4\n",
      "5\n",
      "6\n",
      "7\n"
     ]
    },
    {
     "name": "stderr",
     "output_type": "stream",
     "text": [
      "WARNING: The following header keyword is invalid or follows an unrecognized non-standard convention:\n",
      "MC1TEMDN=-0.00000000000000E+00 / sp1 mech median temp                            [astropy.io.fits.card]\n",
      "WARNING: The following header keyword is invalid or follows an unrecognized non-standard convention:\n",
      "MC1TBCB =-0.00000000000000E+00 / sp1 mech Temp_Blue_Cam_Bot                      [astropy.io.fits.card]\n",
      "WARNING: The following header keyword is invalid or follows an unrecognized non-standard convention:\n",
      "MC1TBCT =-0.00000000000000E+00 / sp1 mech Temp_Blue_Cam_Top                      [astropy.io.fits.card]\n"
     ]
    },
    {
     "name": "stdout",
     "output_type": "stream",
     "text": [
      "8\n",
      "9\n",
      "10\n",
      "11\n",
      "12\n",
      "13\n",
      "14\n"
     ]
    }
   ],
   "source": [
    "for i in range(numbertorun):\n",
    "    print(i)\n",
    "    fname = glob.glob(\"Data_Files/Spectra/*.fits\")[i]\n",
    "    hdu1 = Table.read(fname,hdu=1)\n",
    "    plate_quality = Table.read(fname,hdu=2)['PLATEQUALITY'].data[0].strip()\n",
    "    subclass = Table.read(fname,hdu=2)['SUBCLASS'].data[0].strip()\n",
    "    loglam = hdu1[\"loglam\"].data\n",
    "    flux = hdu1[\"flux\"].data  \n",
    "    \n",
    "    if plate_quality == \"good\":\n",
    "        if np.min(loglam) <= lower_cutoff_loglam and np.max(loglam) >= upper_cutoff_loglam:\n",
    "            good_indices = np.where((loglam>lower_cutoff_loglam) & (loglam<upper_cutoff_loglam))\n",
    "            loglam = loglam[good_indices]\n",
    "            flux = flux[good_indices]\n",
    "            rad_vel = rad_vels[i]/const.c\n",
    "            doppler_factor = np.sqrt((1+rad_vel)/(1-rad_vel))\n",
    "            loglam_shifted = doppler_factor*loglam\n",
    "            flux_interp = np.interp(loglam_shifted, loglam, flux)\n",
    "            normalised_flux = flux_interp/np.max(flux_interp)\n",
    "            loglam_values.append(loglam_shifted)\n",
    "            flux_values.append(normalised_flux)\n",
    "            good_spec_info.append(df.iloc[[i]].values)\n",
    "            subclasses.append(subclass)\n",
    "            plt.subplot(1,2,1)\n",
    "            plt.scatter(loglam, flux, c='green', s=1)\n",
    "            plt.xlabel(\"Loglam\")\n",
    "            plt.ylabel(\"Flux\")\n",
    "            plt.title(\"Original Spectra for \"+subclass)\n",
    "            plt.subplot(1,2,2)\n",
    "            plt.scatter(loglam_shifted, normalised_flux, c='red', s=1)\n",
    "            plt.xlabel(\"Loglam\")\n",
    "            plt.ylabel(\"Normalised Flux\")\n",
    "            plt.title(\"Shifted Spectra for \"+subclass)\n",
    "            plt.tight_layout()\n",
    "            #plt.show()\n",
    "        else:\n",
    "            print(\"Bad wavelength Range\")\n",
    "    else:\n",
    "        print(\"Bad Quality Spectrum\")\n",
    "            \n",
    "\n"
   ]
  },
  {
   "cell_type": "code",
   "execution_count": 69,
   "metadata": {},
   "outputs": [
    {
     "name": "stdout",
     "output_type": "stream",
     "text": [
      "(12, 3599)\n",
      "(12, 3599)\n"
     ]
    }
   ],
   "source": [
    "from sklearn.model_selection import train_test_split\n",
    "from keras.utils import to_categorical\n",
    "unique_subclasses = set(subclasses).to_categorical\n",
    "X = np.array(loglam_values)\n",
    "y = np.array(unique_subclasses)\n",
    "X_train, X_test, y_train, y_test = train_test_split(X, y, test_size=0.2)\n",
    "print(X_train.shape)\n",
    "print(y_train.shape)\n"
   ]
  },
  {
   "cell_type": "code",
   "execution_count": null,
   "metadata": {
    "collapsed": true
   },
   "outputs": [],
   "source": [
    "def model():\n",
    "    a = Input(shape=(3599))"
   ]
  }
 ],
 "metadata": {
  "kernelspec": {
   "display_name": "Python 3",
   "language": "python",
   "name": "python3"
  },
  "language_info": {
   "codemirror_mode": {
    "name": "ipython",
    "version": 3
   },
   "file_extension": ".py",
   "mimetype": "text/x-python",
   "name": "python",
   "nbconvert_exporter": "python",
   "pygments_lexer": "ipython3",
   "version": "3.6.3"
  }
 },
 "nbformat": 4,
 "nbformat_minor": 2
}
