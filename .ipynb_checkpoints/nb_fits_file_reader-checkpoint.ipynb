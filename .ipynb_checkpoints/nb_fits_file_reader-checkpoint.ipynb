{
 "cells": [
  {
   "cell_type": "code",
   "execution_count": 3,
   "metadata": {},
   "outputs": [],
   "source": [
    "from astropy.table import Table\n",
    "import numpy as np\n",
    "import glob\n",
    "from matplotlib import pyplot as plt"
   ]
  },
  {
   "cell_type": "code",
   "execution_count": 41,
   "metadata": {},
   "outputs": [],
   "source": [
    "numbertorun = 3\n",
    "\n",
    "# t = Table.read(filename,hdu=1)\n",
    "# Initialise\n",
    "i = 0\n",
    "flux_values = []\n",
    "loglam_values = []\n",
    "upper_cutoff_loglam = 3.95\n",
    "lower_cutoff_loglam = 3.59"
   ]
  },
  {
   "cell_type": "code",
   "execution_count": 45,
   "metadata": {},
   "outputs": [
    {
     "name": "stderr",
     "output_type": "stream",
     "text": [
      "WARNING: The following header keyword is invalid or follows an unrecognized non-standard convention:\n",
      "MC1TEMDN=-0.00000000000000E+00 / sp1 mech median temp                            [astropy.io.fits.card]\n",
      "WARNING: The following header keyword is invalid or follows an unrecognized non-standard convention:\n",
      "MC1TBCB =-0.00000000000000E+00 / sp1 mech Temp_Blue_Cam_Bot                      [astropy.io.fits.card]\n",
      "WARNING: The following header keyword is invalid or follows an unrecognized non-standard convention:\n",
      "MC1TBCT =-0.00000000000000E+00 / sp1 mech Temp_Blue_Cam_Top                      [astropy.io.fits.card]\n",
      "WARNING: The following header keyword is invalid or follows an unrecognized non-standard convention:\n",
      "MC1TRCT =-0.00000000000000E+00 / sp1 mech Temp_Red_Cam_Top                       [astropy.io.fits.card]\n"
     ]
    }
   ],
   "source": [
    "for i in range(numbertorun):\n",
    "    #print(i)\n",
    "    fname = glob.glob(\"../02_Data_Files/Spectra/*.fits\")[i]\n",
    "    hdu1 = Table.read(fname,hdu=1)\n",
    "    plate_quality = Table.read(fname,hdu=2)['PLATEQUALITY'].data[0].strip()\n",
    "    loglam = hdu1[\"loglam\"].data\n",
    "    flux = hdu1[\"flux\"].data  \n",
    "    if plate_quality == \"good\":\n",
    "        if np.min(loglam) <= lower_cutoff_loglam and loglam >= upper_cutoff_loglam:\n",
    "            good_indices = np.where((loglam>min_cutoff) & (loglam<max_cutoff))\n",
    "            loglam = loglam[good_indices]\n",
    "            flux = flux[good_indices]\n",
    "            loglam_values.append(loglam)\n",
    "            flux_values.append(flux)\n",
    "            "
   ]
  },
  {
   "cell_type": "code",
   "execution_count": null,
   "metadata": {},
   "outputs": [],
   "source": []
  },
  {
   "cell_type": "code",
   "execution_count": 44,
   "metadata": {},
   "outputs": [
    {
     "name": "stdout",
     "output_type": "stream",
     "text": [
      "3.5812228\n",
      "3.963849\n"
     ]
    }
   ],
   "source": []
  },
  {
   "cell_type": "code",
   "execution_count": null,
   "metadata": {},
   "outputs": [],
   "source": []
  }
 ],
 "metadata": {
  "kernelspec": {
   "display_name": "Python 3",
   "language": "python",
   "name": "python3"
  },
  "language_info": {
   "codemirror_mode": {
    "name": "ipython",
    "version": 3
   },
   "file_extension": ".py",
   "mimetype": "text/x-python",
   "name": "python",
   "nbconvert_exporter": "python",
   "pygments_lexer": "ipython3",
   "version": "3.6.4"
  }
 },
 "nbformat": 4,
 "nbformat_minor": 2
}
